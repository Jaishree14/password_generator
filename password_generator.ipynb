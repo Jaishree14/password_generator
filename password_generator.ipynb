{
 "cells": [
  {
   "cell_type": "code",
   "execution_count": 1,
   "id": "c17d795e-de2f-43a3-8056-43f000e5e5b2",
   "metadata": {},
   "outputs": [],
   "source": [
    "import tkinter as tk\n",
    "import string\n",
    "import random"
   ]
  },
  {
   "cell_type": "code",
   "execution_count": 2,
   "id": "79ebb1c0-178e-4bd1-bee7-2af201a52133",
   "metadata": {},
   "outputs": [
    {
     "name": "stdin",
     "output_type": "stream",
     "text": [
      "Enter Password length 8\n"
     ]
    }
   ],
   "source": [
    "length = int(input(\"Enter Password length\"))\n",
    "password = \"\""
   ]
  },
  {
   "cell_type": "code",
   "execution_count": 7,
   "id": "08a99fa3-3307-4c62-8642-c39d3863fb48",
   "metadata": {},
   "outputs": [],
   "source": [
    "def generate_password():\n",
    "    password = []\n",
    "    count=0\n",
    "    for i in range(length):\n",
    "        alpha = random.choice(string.ascii_letters)\n",
    "        symbol = random.choice(string.punctuation)\n",
    "        numbers = random.choice(string.digits)\n",
    "        if(count<length):\n",
    "            password.append(alpha)\n",
    "            passwords = \" \".join(str(x)for x in password)\n",
    "            count=count+1\n",
    "        if(count<length):\n",
    "            password.append(symbol)\n",
    "            passwords = \" \".join(str(x)for x in password)\n",
    "            count=count+1\n",
    "        if(count<length):\n",
    "            password.append(numbers)\n",
    "            passwords = \" \".join(str(x)for x in password)\n",
    "            count=count+1\n",
    "        \n",
    "        label.config(text=passwords)"
   ]
  },
  {
   "cell_type": "code",
   "execution_count": null,
   "id": "4f76ac3b-d4b7-4572-af5c-d2d600932701",
   "metadata": {},
   "outputs": [],
   "source": [
    "root = tk.Tk()\n",
    "root.geometry(\"400x300\")\n",
    "button = tk.Button(root, text=\"Generate Password\", command=generate_password)\n",
    "button.grid(row=1, column=1)\n",
    "label = tk.Label(root, font=(\"times\", 15, \"bold\"))\n",
    "label.grid(row=4, column=2)\n",
    "root.mainloop()"
   ]
  },
  {
   "cell_type": "code",
   "execution_count": null,
   "id": "113af57f-25e5-4938-86a6-a576b66cff1a",
   "metadata": {},
   "outputs": [],
   "source": []
  }
 ],
 "metadata": {
  "kernelspec": {
   "display_name": "Python 3",
   "language": "python",
   "name": "python3"
  },
  "language_info": {
   "codemirror_mode": {
    "name": "ipython",
    "version": 3
   },
   "file_extension": ".py",
   "mimetype": "text/x-python",
   "name": "python",
   "nbconvert_exporter": "python",
   "pygments_lexer": "ipython3",
   "version": "3.8.8"
  }
 },
 "nbformat": 4,
 "nbformat_minor": 5
}
